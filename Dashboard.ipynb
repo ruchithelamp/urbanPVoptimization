{
 "cells": [
  {
   "cell_type": "markdown",
   "id": "0e34f7ce",
   "metadata": {},
   "source": [
    "### Starter code for dashboard\n",
    "\n",
    "The following is a pseudocode setup to outline the general structure for the dashboard setup."
   ]
  },
  {
   "cell_type": "code",
   "execution_count": null,
   "id": "c2f4910f",
   "metadata": {},
   "outputs": [],
   "source": [
    "# install libraries\n",
    "# import selected functions\n",
    "import pandas as pd \n",
    "import numpy as np \n",
    "import os"
   ]
  },
  {
   "cell_type": "code",
   "execution_count": null,
   "id": "6f6cd08c",
   "metadata": {},
   "outputs": [],
   "source": [
    "# access OpenMap or Google Earth\n",
    "# access LiDar data\n",
    "# Check to see which tool to use and if they can be merged or layered\n",
    "\n",
    "# mark polygons to designate buildings\n",
    "# for each polygon:\n",
    "    # determine available sq footage for PV\n",
    "    # determine suitability (use tilt, azimuth, shadowing and sunpath)\n",
    "        # disregard if below threshold (or above threshold?)\n",
    "    # classify building type (small, residential, etc)\n",
    "    # save to dict (or list?)"
   ]
  },
  {
   "cell_type": "code",
   "execution_count": null,
   "id": "09b48a2d",
   "metadata": {},
   "outputs": [],
   "source": [
    "# access or calculate total demand for city ---make sure to print this information to Background data\n",
    "# from input: % of demand coverage desired\n",
    "# from input: % of large/commercial buildings used\n",
    "\n",
    "# calculate min/max from saved dict\n",
    "    # put into temporary table\n",
    "    # produce? polygons which fit parameters\n",
    "# highlight map polygons (different colors: residential, commercial, etc)\n",
    "    # possible add hover button to polygon showing the % it would contribute to total ---shows most important \n",
    "# take data from each polygon and print to Results section\n",
    "    # Solar potential\n",
    "        # system size: kw\n",
    "        # annual output: kw\n",
    "        # roof avaiable for PV: sqft\n",
    "    # Financial Benefits\n",
    "        # system cost $\n",
    "        # 1st year savings $\n",
    "        # 25yr savings $\n",
    "        # Payback period yrs\n",
    "    # Environmental Benefits \n",
    "        # annual CO2 reduction: kg\n",
    "        # 25yr reduction: kg\n",
    "        # trees grown in 10yrs\n",
    "        # cars off the road"
   ]
  }
 ],
 "metadata": {
  "language_info": {
   "name": "python"
  }
 },
 "nbformat": 4,
 "nbformat_minor": 5
}
